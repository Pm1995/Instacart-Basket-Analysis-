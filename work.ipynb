{
 "cells": [
  {
   "cell_type": "code",
   "execution_count": 1,
   "metadata": {
    "collapsed": true
   },
   "outputs": [],
   "source": [
    "import pandas as pd\n",
    "import numpy as np\n",
    "import matplotlib.pyplot as plt\n",
    "import seaborn as sns"
   ]
  },
  {
   "cell_type": "markdown",
   "metadata": {},
   "source": [
    "The dataset for this competition is a relational set of files describing customers' orders over time. The goal of the competition is to predict which products will be in a user's next order. The dataset is anonymized and contains a sample of over 3 million grocery orders from more than 200,000 Instacart users. For each user, we provide between 4 and 100 of their orders, with the sequence of products purchased in each order. We also provide the week and hour of day the order was placed, and a relative measure of time between orders. "
   ]
  },
  {
   "cell_type": "code",
<<<<<<< HEAD
   "execution_count": 4,
   "metadata": {
    "collapsed": true
   },
   "outputs": [],
=======
   "execution_count": 7,
   "metadata": {},
   "outputs": [
    {
     "ename": "FileNotFoundError",
     "evalue": "File b'data/aisles.csv' does not exist",
     "output_type": "error",
     "traceback": [
      "\u001b[1;31m---------------------------------------------------------------------------\u001b[0m",
      "\u001b[1;31mFileNotFoundError\u001b[0m                         Traceback (most recent call last)",
      "\u001b[1;32m<ipython-input-7-0d17f527a74c>\u001b[0m in \u001b[0;36m<module>\u001b[1;34m()\u001b[0m\n\u001b[1;32m----> 1\u001b[1;33m \u001b[0maisles\u001b[0m\u001b[1;33m=\u001b[0m\u001b[0mpd\u001b[0m\u001b[1;33m.\u001b[0m\u001b[0mread_csv\u001b[0m\u001b[1;33m(\u001b[0m\u001b[1;34m\"data/aisles.csv\"\u001b[0m\u001b[1;33m)\u001b[0m\u001b[1;33m\u001b[0m\u001b[0m\n\u001b[0m\u001b[0;32m      2\u001b[0m \u001b[0mdepartments\u001b[0m\u001b[1;33m=\u001b[0m\u001b[0mpd\u001b[0m\u001b[1;33m.\u001b[0m\u001b[0mread_csv\u001b[0m\u001b[1;33m(\u001b[0m\u001b[1;34m\"departments.csv\"\u001b[0m\u001b[1;33m)\u001b[0m\u001b[1;33m\u001b[0m\u001b[0m\n\u001b[0;32m      3\u001b[0m \u001b[0morder_prior\u001b[0m\u001b[1;33m=\u001b[0m\u001b[0mpd\u001b[0m\u001b[1;33m.\u001b[0m\u001b[0mread_csv\u001b[0m\u001b[1;33m(\u001b[0m\u001b[1;34m\"order_products__prior.csv\"\u001b[0m\u001b[1;33m)\u001b[0m\u001b[1;33m\u001b[0m\u001b[0m\n\u001b[0;32m      4\u001b[0m \u001b[0morder_train\u001b[0m\u001b[1;33m=\u001b[0m\u001b[0mpd\u001b[0m\u001b[1;33m.\u001b[0m\u001b[0mread_csv\u001b[0m\u001b[1;33m(\u001b[0m\u001b[1;34m\"order_products__train.csv\"\u001b[0m\u001b[1;33m)\u001b[0m\u001b[1;33m\u001b[0m\u001b[0m\n\u001b[0;32m      5\u001b[0m \u001b[0morders\u001b[0m\u001b[1;33m=\u001b[0m\u001b[0mpd\u001b[0m\u001b[1;33m.\u001b[0m\u001b[0mread_csv\u001b[0m\u001b[1;33m(\u001b[0m\u001b[1;34m\"orders.csv\"\u001b[0m\u001b[1;33m)\u001b[0m\u001b[1;33m\u001b[0m\u001b[0m\n",
      "\u001b[1;32m~\\Anaconda3\\lib\\site-packages\\pandas\\io\\parsers.py\u001b[0m in \u001b[0;36mparser_f\u001b[1;34m(filepath_or_buffer, sep, delimiter, header, names, index_col, usecols, squeeze, prefix, mangle_dupe_cols, dtype, engine, converters, true_values, false_values, skipinitialspace, skiprows, nrows, na_values, keep_default_na, na_filter, verbose, skip_blank_lines, parse_dates, infer_datetime_format, keep_date_col, date_parser, dayfirst, iterator, chunksize, compression, thousands, decimal, lineterminator, quotechar, quoting, escapechar, comment, encoding, dialect, tupleize_cols, error_bad_lines, warn_bad_lines, skipfooter, skip_footer, doublequote, delim_whitespace, as_recarray, compact_ints, use_unsigned, low_memory, buffer_lines, memory_map, float_precision)\u001b[0m\n\u001b[0;32m    707\u001b[0m                     skip_blank_lines=skip_blank_lines)\n\u001b[0;32m    708\u001b[0m \u001b[1;33m\u001b[0m\u001b[0m\n\u001b[1;32m--> 709\u001b[1;33m         \u001b[1;32mreturn\u001b[0m \u001b[0m_read\u001b[0m\u001b[1;33m(\u001b[0m\u001b[0mfilepath_or_buffer\u001b[0m\u001b[1;33m,\u001b[0m \u001b[0mkwds\u001b[0m\u001b[1;33m)\u001b[0m\u001b[1;33m\u001b[0m\u001b[0m\n\u001b[0m\u001b[0;32m    710\u001b[0m \u001b[1;33m\u001b[0m\u001b[0m\n\u001b[0;32m    711\u001b[0m     \u001b[0mparser_f\u001b[0m\u001b[1;33m.\u001b[0m\u001b[0m__name__\u001b[0m \u001b[1;33m=\u001b[0m \u001b[0mname\u001b[0m\u001b[1;33m\u001b[0m\u001b[0m\n",
      "\u001b[1;32m~\\Anaconda3\\lib\\site-packages\\pandas\\io\\parsers.py\u001b[0m in \u001b[0;36m_read\u001b[1;34m(filepath_or_buffer, kwds)\u001b[0m\n\u001b[0;32m    447\u001b[0m \u001b[1;33m\u001b[0m\u001b[0m\n\u001b[0;32m    448\u001b[0m     \u001b[1;31m# Create the parser.\u001b[0m\u001b[1;33m\u001b[0m\u001b[1;33m\u001b[0m\u001b[0m\n\u001b[1;32m--> 449\u001b[1;33m     \u001b[0mparser\u001b[0m \u001b[1;33m=\u001b[0m \u001b[0mTextFileReader\u001b[0m\u001b[1;33m(\u001b[0m\u001b[0mfilepath_or_buffer\u001b[0m\u001b[1;33m,\u001b[0m \u001b[1;33m**\u001b[0m\u001b[0mkwds\u001b[0m\u001b[1;33m)\u001b[0m\u001b[1;33m\u001b[0m\u001b[0m\n\u001b[0m\u001b[0;32m    450\u001b[0m \u001b[1;33m\u001b[0m\u001b[0m\n\u001b[0;32m    451\u001b[0m     \u001b[1;32mif\u001b[0m \u001b[0mchunksize\u001b[0m \u001b[1;32mor\u001b[0m \u001b[0miterator\u001b[0m\u001b[1;33m:\u001b[0m\u001b[1;33m\u001b[0m\u001b[0m\n",
      "\u001b[1;32m~\\Anaconda3\\lib\\site-packages\\pandas\\io\\parsers.py\u001b[0m in \u001b[0;36m__init__\u001b[1;34m(self, f, engine, **kwds)\u001b[0m\n\u001b[0;32m    816\u001b[0m             \u001b[0mself\u001b[0m\u001b[1;33m.\u001b[0m\u001b[0moptions\u001b[0m\u001b[1;33m[\u001b[0m\u001b[1;34m'has_index_names'\u001b[0m\u001b[1;33m]\u001b[0m \u001b[1;33m=\u001b[0m \u001b[0mkwds\u001b[0m\u001b[1;33m[\u001b[0m\u001b[1;34m'has_index_names'\u001b[0m\u001b[1;33m]\u001b[0m\u001b[1;33m\u001b[0m\u001b[0m\n\u001b[0;32m    817\u001b[0m \u001b[1;33m\u001b[0m\u001b[0m\n\u001b[1;32m--> 818\u001b[1;33m         \u001b[0mself\u001b[0m\u001b[1;33m.\u001b[0m\u001b[0m_make_engine\u001b[0m\u001b[1;33m(\u001b[0m\u001b[0mself\u001b[0m\u001b[1;33m.\u001b[0m\u001b[0mengine\u001b[0m\u001b[1;33m)\u001b[0m\u001b[1;33m\u001b[0m\u001b[0m\n\u001b[0m\u001b[0;32m    819\u001b[0m \u001b[1;33m\u001b[0m\u001b[0m\n\u001b[0;32m    820\u001b[0m     \u001b[1;32mdef\u001b[0m \u001b[0mclose\u001b[0m\u001b[1;33m(\u001b[0m\u001b[0mself\u001b[0m\u001b[1;33m)\u001b[0m\u001b[1;33m:\u001b[0m\u001b[1;33m\u001b[0m\u001b[0m\n",
      "\u001b[1;32m~\\Anaconda3\\lib\\site-packages\\pandas\\io\\parsers.py\u001b[0m in \u001b[0;36m_make_engine\u001b[1;34m(self, engine)\u001b[0m\n\u001b[0;32m   1047\u001b[0m     \u001b[1;32mdef\u001b[0m \u001b[0m_make_engine\u001b[0m\u001b[1;33m(\u001b[0m\u001b[0mself\u001b[0m\u001b[1;33m,\u001b[0m \u001b[0mengine\u001b[0m\u001b[1;33m=\u001b[0m\u001b[1;34m'c'\u001b[0m\u001b[1;33m)\u001b[0m\u001b[1;33m:\u001b[0m\u001b[1;33m\u001b[0m\u001b[0m\n\u001b[0;32m   1048\u001b[0m         \u001b[1;32mif\u001b[0m \u001b[0mengine\u001b[0m \u001b[1;33m==\u001b[0m \u001b[1;34m'c'\u001b[0m\u001b[1;33m:\u001b[0m\u001b[1;33m\u001b[0m\u001b[0m\n\u001b[1;32m-> 1049\u001b[1;33m             \u001b[0mself\u001b[0m\u001b[1;33m.\u001b[0m\u001b[0m_engine\u001b[0m \u001b[1;33m=\u001b[0m \u001b[0mCParserWrapper\u001b[0m\u001b[1;33m(\u001b[0m\u001b[0mself\u001b[0m\u001b[1;33m.\u001b[0m\u001b[0mf\u001b[0m\u001b[1;33m,\u001b[0m \u001b[1;33m**\u001b[0m\u001b[0mself\u001b[0m\u001b[1;33m.\u001b[0m\u001b[0moptions\u001b[0m\u001b[1;33m)\u001b[0m\u001b[1;33m\u001b[0m\u001b[0m\n\u001b[0m\u001b[0;32m   1050\u001b[0m         \u001b[1;32melse\u001b[0m\u001b[1;33m:\u001b[0m\u001b[1;33m\u001b[0m\u001b[0m\n\u001b[0;32m   1051\u001b[0m             \u001b[1;32mif\u001b[0m \u001b[0mengine\u001b[0m \u001b[1;33m==\u001b[0m \u001b[1;34m'python'\u001b[0m\u001b[1;33m:\u001b[0m\u001b[1;33m\u001b[0m\u001b[0m\n",
      "\u001b[1;32m~\\Anaconda3\\lib\\site-packages\\pandas\\io\\parsers.py\u001b[0m in \u001b[0;36m__init__\u001b[1;34m(self, src, **kwds)\u001b[0m\n\u001b[0;32m   1693\u001b[0m         \u001b[0mkwds\u001b[0m\u001b[1;33m[\u001b[0m\u001b[1;34m'allow_leading_cols'\u001b[0m\u001b[1;33m]\u001b[0m \u001b[1;33m=\u001b[0m \u001b[0mself\u001b[0m\u001b[1;33m.\u001b[0m\u001b[0mindex_col\u001b[0m \u001b[1;32mis\u001b[0m \u001b[1;32mnot\u001b[0m \u001b[1;32mFalse\u001b[0m\u001b[1;33m\u001b[0m\u001b[0m\n\u001b[0;32m   1694\u001b[0m \u001b[1;33m\u001b[0m\u001b[0m\n\u001b[1;32m-> 1695\u001b[1;33m         \u001b[0mself\u001b[0m\u001b[1;33m.\u001b[0m\u001b[0m_reader\u001b[0m \u001b[1;33m=\u001b[0m \u001b[0mparsers\u001b[0m\u001b[1;33m.\u001b[0m\u001b[0mTextReader\u001b[0m\u001b[1;33m(\u001b[0m\u001b[0msrc\u001b[0m\u001b[1;33m,\u001b[0m \u001b[1;33m**\u001b[0m\u001b[0mkwds\u001b[0m\u001b[1;33m)\u001b[0m\u001b[1;33m\u001b[0m\u001b[0m\n\u001b[0m\u001b[0;32m   1696\u001b[0m \u001b[1;33m\u001b[0m\u001b[0m\n\u001b[0;32m   1697\u001b[0m         \u001b[1;31m# XXX\u001b[0m\u001b[1;33m\u001b[0m\u001b[1;33m\u001b[0m\u001b[0m\n",
      "\u001b[1;32mpandas/_libs/parsers.pyx\u001b[0m in \u001b[0;36mpandas._libs.parsers.TextReader.__cinit__\u001b[1;34m()\u001b[0m\n",
      "\u001b[1;32mpandas/_libs/parsers.pyx\u001b[0m in \u001b[0;36mpandas._libs.parsers.TextReader._setup_parser_source\u001b[1;34m()\u001b[0m\n",
      "\u001b[1;31mFileNotFoundError\u001b[0m: File b'data/aisles.csv' does not exist"
     ]
    }
   ],
>>>>>>> 984baf2c3f6f413c5e8f4079a24e5b21ee90e545
   "source": [
    "aisles=pd.read_csv(\"data/aisles.csv\")\n",
    "departments=pd.read_csv(\"departments.csv\")\n",
    "order_prior=pd.read_csv(\"order_products__prior.csv\")\n",
    "order_train=pd.read_csv(\"order_products__train.csv\")\n",
    "orders=pd.read_csv(\"orders.csv\")\n",
    "products=pd.read_csv(\"products.csv\")\n",
    "samp_sub=pd.read_csv(\"sample_submission.csv\")"
   ]
  },
  {
   "cell_type": "code",
   "execution_count": 5,
   "metadata": {},
   "outputs": [
    {
     "data": {
      "text/html": [
       "<div>\n",
       "<style scoped>\n",
       "    .dataframe tbody tr th:only-of-type {\n",
       "        vertical-align: middle;\n",
       "    }\n",
       "\n",
       "    .dataframe tbody tr th {\n",
       "        vertical-align: top;\n",
       "    }\n",
       "\n",
       "    .dataframe thead th {\n",
       "        text-align: right;\n",
       "    }\n",
       "</style>\n",
       "<table border=\"1\" class=\"dataframe\">\n",
       "  <thead>\n",
       "    <tr style=\"text-align: right;\">\n",
       "      <th></th>\n",
       "      <th>aisle_id</th>\n",
       "      <th>aisle</th>\n",
       "    </tr>\n",
       "  </thead>\n",
       "  <tbody>\n",
       "    <tr>\n",
       "      <th>0</th>\n",
       "      <td>1</td>\n",
       "      <td>prepared soups salads</td>\n",
       "    </tr>\n",
       "    <tr>\n",
       "      <th>1</th>\n",
       "      <td>2</td>\n",
       "      <td>specialty cheeses</td>\n",
       "    </tr>\n",
       "    <tr>\n",
       "      <th>2</th>\n",
       "      <td>3</td>\n",
       "      <td>energy granola bars</td>\n",
       "    </tr>\n",
       "    <tr>\n",
       "      <th>3</th>\n",
       "      <td>4</td>\n",
       "      <td>instant foods</td>\n",
       "    </tr>\n",
       "    <tr>\n",
       "      <th>4</th>\n",
       "      <td>5</td>\n",
       "      <td>marinades meat preparation</td>\n",
       "    </tr>\n",
       "  </tbody>\n",
       "</table>\n",
       "</div>"
      ],
      "text/plain": [
       "   aisle_id                       aisle\n",
       "0         1       prepared soups salads\n",
       "1         2           specialty cheeses\n",
       "2         3         energy granola bars\n",
       "3         4               instant foods\n",
       "4         5  marinades meat preparation"
      ]
     },
     "execution_count": 5,
     "metadata": {},
     "output_type": "execute_result"
    }
   ],
   "source": [
    "aisles.head()"
   ]
  },
  {
   "cell_type": "code",
   "execution_count": 6,
   "metadata": {},
   "outputs": [
    {
     "data": {
      "text/html": [
       "<div>\n",
       "<style scoped>\n",
       "    .dataframe tbody tr th:only-of-type {\n",
       "        vertical-align: middle;\n",
       "    }\n",
       "\n",
       "    .dataframe tbody tr th {\n",
       "        vertical-align: top;\n",
       "    }\n",
       "\n",
       "    .dataframe thead th {\n",
       "        text-align: right;\n",
       "    }\n",
       "</style>\n",
       "<table border=\"1\" class=\"dataframe\">\n",
       "  <thead>\n",
       "    <tr style=\"text-align: right;\">\n",
       "      <th></th>\n",
       "      <th>department_id</th>\n",
       "      <th>department</th>\n",
       "    </tr>\n",
       "  </thead>\n",
       "  <tbody>\n",
       "    <tr>\n",
       "      <th>0</th>\n",
       "      <td>1</td>\n",
       "      <td>frozen</td>\n",
       "    </tr>\n",
       "    <tr>\n",
       "      <th>1</th>\n",
       "      <td>2</td>\n",
       "      <td>other</td>\n",
       "    </tr>\n",
       "    <tr>\n",
       "      <th>2</th>\n",
       "      <td>3</td>\n",
       "      <td>bakery</td>\n",
       "    </tr>\n",
       "    <tr>\n",
       "      <th>3</th>\n",
       "      <td>4</td>\n",
       "      <td>produce</td>\n",
       "    </tr>\n",
       "    <tr>\n",
       "      <th>4</th>\n",
       "      <td>5</td>\n",
       "      <td>alcohol</td>\n",
       "    </tr>\n",
       "  </tbody>\n",
       "</table>\n",
       "</div>"
      ],
      "text/plain": [
       "   department_id department\n",
       "0              1     frozen\n",
       "1              2      other\n",
       "2              3     bakery\n",
       "3              4    produce\n",
       "4              5    alcohol"
      ]
     },
     "execution_count": 6,
     "metadata": {},
     "output_type": "execute_result"
    }
   ],
   "source": [
    "departments.head()"
   ]
  },
  {
   "cell_type": "markdown",
   "metadata": {},
   "source": [
    "order_products-These files specify which products were purchased in each order. order_products__prior.csv contains previous order contents for all customers. 'reordered' indicates that the customer has a previous order that contains the product. Note that some orders will have no reordered items. You may predict an explicit 'None' value for orders with no reordered items."
   ]
  },
  {
   "cell_type": "code",
   "execution_count": 7,
   "metadata": {},
   "outputs": [
    {
     "data": {
      "text/html": [
       "<div>\n",
       "<style scoped>\n",
       "    .dataframe tbody tr th:only-of-type {\n",
       "        vertical-align: middle;\n",
       "    }\n",
       "\n",
       "    .dataframe tbody tr th {\n",
       "        vertical-align: top;\n",
       "    }\n",
       "\n",
       "    .dataframe thead th {\n",
       "        text-align: right;\n",
       "    }\n",
       "</style>\n",
       "<table border=\"1\" class=\"dataframe\">\n",
       "  <thead>\n",
       "    <tr style=\"text-align: right;\">\n",
       "      <th></th>\n",
       "      <th>order_id</th>\n",
       "      <th>product_id</th>\n",
       "      <th>add_to_cart_order</th>\n",
       "      <th>reordered</th>\n",
       "    </tr>\n",
       "  </thead>\n",
       "  <tbody>\n",
       "    <tr>\n",
       "      <th>0</th>\n",
       "      <td>2</td>\n",
       "      <td>33120</td>\n",
       "      <td>1</td>\n",
       "      <td>1</td>\n",
       "    </tr>\n",
       "    <tr>\n",
       "      <th>1</th>\n",
       "      <td>2</td>\n",
       "      <td>28985</td>\n",
       "      <td>2</td>\n",
       "      <td>1</td>\n",
       "    </tr>\n",
       "    <tr>\n",
       "      <th>2</th>\n",
       "      <td>2</td>\n",
       "      <td>9327</td>\n",
       "      <td>3</td>\n",
       "      <td>0</td>\n",
       "    </tr>\n",
       "    <tr>\n",
       "      <th>3</th>\n",
       "      <td>2</td>\n",
       "      <td>45918</td>\n",
       "      <td>4</td>\n",
       "      <td>1</td>\n",
       "    </tr>\n",
       "    <tr>\n",
       "      <th>4</th>\n",
       "      <td>2</td>\n",
       "      <td>30035</td>\n",
       "      <td>5</td>\n",
       "      <td>0</td>\n",
       "    </tr>\n",
       "  </tbody>\n",
       "</table>\n",
       "</div>"
      ],
      "text/plain": [
       "   order_id  product_id  add_to_cart_order  reordered\n",
       "0         2       33120                  1          1\n",
       "1         2       28985                  2          1\n",
       "2         2        9327                  3          0\n",
       "3         2       45918                  4          1\n",
       "4         2       30035                  5          0"
      ]
     },
     "execution_count": 7,
     "metadata": {},
     "output_type": "execute_result"
    }
   ],
   "source": [
    "order_prior.head()"
   ]
  },
  {
   "cell_type": "code",
   "execution_count": 8,
   "metadata": {},
   "outputs": [
    {
     "data": {
      "text/html": [
       "<div>\n",
       "<style scoped>\n",
       "    .dataframe tbody tr th:only-of-type {\n",
       "        vertical-align: middle;\n",
       "    }\n",
       "\n",
       "    .dataframe tbody tr th {\n",
       "        vertical-align: top;\n",
       "    }\n",
       "\n",
       "    .dataframe thead th {\n",
       "        text-align: right;\n",
       "    }\n",
       "</style>\n",
       "<table border=\"1\" class=\"dataframe\">\n",
       "  <thead>\n",
       "    <tr style=\"text-align: right;\">\n",
       "      <th></th>\n",
       "      <th>order_id</th>\n",
       "      <th>product_id</th>\n",
       "      <th>add_to_cart_order</th>\n",
       "      <th>reordered</th>\n",
       "    </tr>\n",
       "  </thead>\n",
       "  <tbody>\n",
       "    <tr>\n",
       "      <th>0</th>\n",
       "      <td>1</td>\n",
       "      <td>49302</td>\n",
       "      <td>1</td>\n",
       "      <td>1</td>\n",
       "    </tr>\n",
       "    <tr>\n",
       "      <th>1</th>\n",
       "      <td>1</td>\n",
       "      <td>11109</td>\n",
       "      <td>2</td>\n",
       "      <td>1</td>\n",
       "    </tr>\n",
       "    <tr>\n",
       "      <th>2</th>\n",
       "      <td>1</td>\n",
       "      <td>10246</td>\n",
       "      <td>3</td>\n",
       "      <td>0</td>\n",
       "    </tr>\n",
       "    <tr>\n",
       "      <th>3</th>\n",
       "      <td>1</td>\n",
       "      <td>49683</td>\n",
       "      <td>4</td>\n",
       "      <td>0</td>\n",
       "    </tr>\n",
       "    <tr>\n",
       "      <th>4</th>\n",
       "      <td>1</td>\n",
       "      <td>43633</td>\n",
       "      <td>5</td>\n",
       "      <td>1</td>\n",
       "    </tr>\n",
       "  </tbody>\n",
       "</table>\n",
       "</div>"
      ],
      "text/plain": [
       "   order_id  product_id  add_to_cart_order  reordered\n",
       "0         1       49302                  1          1\n",
       "1         1       11109                  2          1\n",
       "2         1       10246                  3          0\n",
       "3         1       49683                  4          0\n",
       "4         1       43633                  5          1"
      ]
     },
     "execution_count": 8,
     "metadata": {},
     "output_type": "execute_result"
    }
   ],
   "source": [
    "order_train.head()"
   ]
  },
  {
   "cell_type": "markdown",
   "metadata": {},
   "source": [
    "orders.csv\n",
    "This file tells to which set (prior, train, test) an order belongs. You are predicting reordered items only for the test set orders. 'order_dow' is the day of week."
   ]
  },
  {
   "cell_type": "code",
   "execution_count": 9,
   "metadata": {},
   "outputs": [
    {
     "data": {
      "text/html": [
       "<div>\n",
       "<style scoped>\n",
       "    .dataframe tbody tr th:only-of-type {\n",
       "        vertical-align: middle;\n",
       "    }\n",
       "\n",
       "    .dataframe tbody tr th {\n",
       "        vertical-align: top;\n",
       "    }\n",
       "\n",
       "    .dataframe thead th {\n",
       "        text-align: right;\n",
       "    }\n",
       "</style>\n",
       "<table border=\"1\" class=\"dataframe\">\n",
       "  <thead>\n",
       "    <tr style=\"text-align: right;\">\n",
       "      <th></th>\n",
       "      <th>order_id</th>\n",
       "      <th>user_id</th>\n",
       "      <th>eval_set</th>\n",
       "      <th>order_number</th>\n",
       "      <th>order_dow</th>\n",
       "      <th>order_hour_of_day</th>\n",
       "      <th>days_since_prior_order</th>\n",
       "    </tr>\n",
       "  </thead>\n",
       "  <tbody>\n",
       "    <tr>\n",
       "      <th>0</th>\n",
       "      <td>2539329</td>\n",
       "      <td>1</td>\n",
       "      <td>prior</td>\n",
       "      <td>1</td>\n",
       "      <td>2</td>\n",
       "      <td>8</td>\n",
       "      <td>NaN</td>\n",
       "    </tr>\n",
       "    <tr>\n",
       "      <th>1</th>\n",
       "      <td>2398795</td>\n",
       "      <td>1</td>\n",
       "      <td>prior</td>\n",
       "      <td>2</td>\n",
       "      <td>3</td>\n",
       "      <td>7</td>\n",
       "      <td>15.0</td>\n",
       "    </tr>\n",
       "    <tr>\n",
       "      <th>2</th>\n",
       "      <td>473747</td>\n",
       "      <td>1</td>\n",
       "      <td>prior</td>\n",
       "      <td>3</td>\n",
       "      <td>3</td>\n",
       "      <td>12</td>\n",
       "      <td>21.0</td>\n",
       "    </tr>\n",
       "    <tr>\n",
       "      <th>3</th>\n",
       "      <td>2254736</td>\n",
       "      <td>1</td>\n",
       "      <td>prior</td>\n",
       "      <td>4</td>\n",
       "      <td>4</td>\n",
       "      <td>7</td>\n",
       "      <td>29.0</td>\n",
       "    </tr>\n",
       "    <tr>\n",
       "      <th>4</th>\n",
       "      <td>431534</td>\n",
       "      <td>1</td>\n",
       "      <td>prior</td>\n",
       "      <td>5</td>\n",
       "      <td>4</td>\n",
       "      <td>15</td>\n",
       "      <td>28.0</td>\n",
       "    </tr>\n",
       "  </tbody>\n",
       "</table>\n",
       "</div>"
      ],
      "text/plain": [
       "   order_id  user_id eval_set  order_number  order_dow  order_hour_of_day  \\\n",
       "0   2539329        1    prior             1          2                  8   \n",
       "1   2398795        1    prior             2          3                  7   \n",
       "2    473747        1    prior             3          3                 12   \n",
       "3   2254736        1    prior             4          4                  7   \n",
       "4    431534        1    prior             5          4                 15   \n",
       "\n",
       "   days_since_prior_order  \n",
       "0                     NaN  \n",
       "1                    15.0  \n",
       "2                    21.0  \n",
       "3                    29.0  \n",
       "4                    28.0  "
      ]
     },
     "execution_count": 9,
     "metadata": {},
     "output_type": "execute_result"
    }
   ],
   "source": [
    "orders.head()"
   ]
  },
  {
   "cell_type": "code",
   "execution_count": 11,
   "metadata": {},
   "outputs": [
    {
     "data": {
      "text/html": [
       "<div>\n",
       "<style scoped>\n",
       "    .dataframe tbody tr th:only-of-type {\n",
       "        vertical-align: middle;\n",
       "    }\n",
       "\n",
       "    .dataframe tbody tr th {\n",
       "        vertical-align: top;\n",
       "    }\n",
       "\n",
       "    .dataframe thead th {\n",
       "        text-align: right;\n",
       "    }\n",
       "</style>\n",
       "<table border=\"1\" class=\"dataframe\">\n",
       "  <thead>\n",
       "    <tr style=\"text-align: right;\">\n",
       "      <th></th>\n",
       "      <th>product_id</th>\n",
       "      <th>product_name</th>\n",
       "      <th>aisle_id</th>\n",
       "      <th>department_id</th>\n",
       "    </tr>\n",
       "  </thead>\n",
       "  <tbody>\n",
       "    <tr>\n",
       "      <th>0</th>\n",
       "      <td>1</td>\n",
       "      <td>Chocolate Sandwich Cookies</td>\n",
       "      <td>61</td>\n",
       "      <td>19</td>\n",
       "    </tr>\n",
       "    <tr>\n",
       "      <th>1</th>\n",
       "      <td>2</td>\n",
       "      <td>All-Seasons Salt</td>\n",
       "      <td>104</td>\n",
       "      <td>13</td>\n",
       "    </tr>\n",
       "    <tr>\n",
       "      <th>2</th>\n",
       "      <td>3</td>\n",
       "      <td>Robust Golden Unsweetened Oolong Tea</td>\n",
       "      <td>94</td>\n",
       "      <td>7</td>\n",
       "    </tr>\n",
       "    <tr>\n",
       "      <th>3</th>\n",
       "      <td>4</td>\n",
       "      <td>Smart Ones Classic Favorites Mini Rigatoni Wit...</td>\n",
       "      <td>38</td>\n",
       "      <td>1</td>\n",
       "    </tr>\n",
       "    <tr>\n",
       "      <th>4</th>\n",
       "      <td>5</td>\n",
       "      <td>Green Chile Anytime Sauce</td>\n",
       "      <td>5</td>\n",
       "      <td>13</td>\n",
       "    </tr>\n",
       "  </tbody>\n",
       "</table>\n",
       "</div>"
      ],
      "text/plain": [
       "   product_id                                       product_name  aisle_id  \\\n",
       "0           1                         Chocolate Sandwich Cookies        61   \n",
       "1           2                                   All-Seasons Salt       104   \n",
       "2           3               Robust Golden Unsweetened Oolong Tea        94   \n",
       "3           4  Smart Ones Classic Favorites Mini Rigatoni Wit...        38   \n",
       "4           5                          Green Chile Anytime Sauce         5   \n",
       "\n",
       "   department_id  \n",
       "0             19  \n",
       "1             13  \n",
       "2              7  \n",
       "3              1  \n",
       "4             13  "
      ]
     },
     "execution_count": 11,
     "metadata": {},
     "output_type": "execute_result"
    }
   ],
   "source": [
    "products.head()"
   ]
  },
  {
   "cell_type": "code",
   "execution_count": 12,
   "metadata": {},
   "outputs": [
    {
     "data": {
      "text/html": [
       "<div>\n",
       "<style scoped>\n",
       "    .dataframe tbody tr th:only-of-type {\n",
       "        vertical-align: middle;\n",
       "    }\n",
       "\n",
       "    .dataframe tbody tr th {\n",
       "        vertical-align: top;\n",
       "    }\n",
       "\n",
       "    .dataframe thead th {\n",
       "        text-align: right;\n",
       "    }\n",
       "</style>\n",
       "<table border=\"1\" class=\"dataframe\">\n",
       "  <thead>\n",
       "    <tr style=\"text-align: right;\">\n",
       "      <th></th>\n",
       "      <th>order_id</th>\n",
       "      <th>products</th>\n",
       "    </tr>\n",
       "  </thead>\n",
       "  <tbody>\n",
       "    <tr>\n",
       "      <th>0</th>\n",
       "      <td>17</td>\n",
       "      <td>39276 29259</td>\n",
       "    </tr>\n",
       "    <tr>\n",
       "      <th>1</th>\n",
       "      <td>34</td>\n",
       "      <td>39276 29259</td>\n",
       "    </tr>\n",
       "    <tr>\n",
       "      <th>2</th>\n",
       "      <td>137</td>\n",
       "      <td>39276 29259</td>\n",
       "    </tr>\n",
       "    <tr>\n",
       "      <th>3</th>\n",
       "      <td>182</td>\n",
       "      <td>39276 29259</td>\n",
       "    </tr>\n",
       "    <tr>\n",
       "      <th>4</th>\n",
       "      <td>257</td>\n",
       "      <td>39276 29259</td>\n",
       "    </tr>\n",
       "  </tbody>\n",
       "</table>\n",
       "</div>"
      ],
      "text/plain": [
       "   order_id     products\n",
       "0        17  39276 29259\n",
       "1        34  39276 29259\n",
       "2       137  39276 29259\n",
       "3       182  39276 29259\n",
       "4       257  39276 29259"
      ]
     },
     "execution_count": 12,
     "metadata": {},
     "output_type": "execute_result"
    }
   ],
   "source": [
    "samp_sub.head()"
   ]
  },
  {
   "cell_type": "markdown",
   "metadata": {},
   "source": [
    "let us first explore the orders dataset which is exhaustive of all orders "
   ]
  },
  {
   "cell_type": "code",
   "execution_count": 14,
   "metadata": {},
   "outputs": [
    {
     "data": {
      "text/html": [
       "<div>\n",
       "<style scoped>\n",
       "    .dataframe tbody tr th:only-of-type {\n",
       "        vertical-align: middle;\n",
       "    }\n",
       "\n",
       "    .dataframe tbody tr th {\n",
       "        vertical-align: top;\n",
       "    }\n",
       "\n",
       "    .dataframe thead th {\n",
       "        text-align: right;\n",
       "    }\n",
       "</style>\n",
       "<table border=\"1\" class=\"dataframe\">\n",
       "  <thead>\n",
       "    <tr style=\"text-align: right;\">\n",
       "      <th></th>\n",
       "      <th>order_id</th>\n",
       "      <th>user_id</th>\n",
       "      <th>eval_set</th>\n",
       "      <th>order_number</th>\n",
       "      <th>order_dow</th>\n",
       "      <th>order_hour_of_day</th>\n",
       "      <th>days_since_prior_order</th>\n",
       "    </tr>\n",
       "  </thead>\n",
       "  <tbody>\n",
       "    <tr>\n",
       "      <th>0</th>\n",
       "      <td>2539329</td>\n",
       "      <td>1</td>\n",
       "      <td>prior</td>\n",
       "      <td>1</td>\n",
       "      <td>2</td>\n",
       "      <td>8</td>\n",
       "      <td>NaN</td>\n",
       "    </tr>\n",
       "    <tr>\n",
       "      <th>1</th>\n",
       "      <td>2398795</td>\n",
       "      <td>1</td>\n",
       "      <td>prior</td>\n",
       "      <td>2</td>\n",
       "      <td>3</td>\n",
       "      <td>7</td>\n",
       "      <td>15.0</td>\n",
       "    </tr>\n",
       "    <tr>\n",
       "      <th>2</th>\n",
       "      <td>473747</td>\n",
       "      <td>1</td>\n",
       "      <td>prior</td>\n",
       "      <td>3</td>\n",
       "      <td>3</td>\n",
       "      <td>12</td>\n",
       "      <td>21.0</td>\n",
       "    </tr>\n",
       "    <tr>\n",
       "      <th>3</th>\n",
       "      <td>2254736</td>\n",
       "      <td>1</td>\n",
       "      <td>prior</td>\n",
       "      <td>4</td>\n",
       "      <td>4</td>\n",
       "      <td>7</td>\n",
       "      <td>29.0</td>\n",
       "    </tr>\n",
       "    <tr>\n",
       "      <th>4</th>\n",
       "      <td>431534</td>\n",
       "      <td>1</td>\n",
       "      <td>prior</td>\n",
       "      <td>5</td>\n",
       "      <td>4</td>\n",
       "      <td>15</td>\n",
       "      <td>28.0</td>\n",
       "    </tr>\n",
       "  </tbody>\n",
       "</table>\n",
       "</div>"
      ],
      "text/plain": [
       "   order_id  user_id eval_set  order_number  order_dow  order_hour_of_day  \\\n",
       "0   2539329        1    prior             1          2                  8   \n",
       "1   2398795        1    prior             2          3                  7   \n",
       "2    473747        1    prior             3          3                 12   \n",
       "3   2254736        1    prior             4          4                  7   \n",
       "4    431534        1    prior             5          4                 15   \n",
       "\n",
       "   days_since_prior_order  \n",
       "0                     NaN  \n",
       "1                    15.0  \n",
       "2                    21.0  \n",
       "3                    29.0  \n",
       "4                    28.0  "
      ]
     },
     "execution_count": 14,
     "metadata": {},
     "output_type": "execute_result"
    }
   ],
   "source": [
    "orders.head()"
   ]
  },
  {
   "cell_type": "code",
   "execution_count": 15,
   "metadata": {},
   "outputs": [
    {
     "data": {
      "text/plain": [
       "<matplotlib.axes._subplots.AxesSubplot at 0x244802e2400>"
      ]
     },
     "execution_count": 15,
     "metadata": {},
     "output_type": "execute_result"
    },
    {
     "data": {
      "image/png": "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\n",
      "text/plain": [
       "<matplotlib.figure.Figure at 0x24480c49748>"
      ]
     },
     "metadata": {},
     "output_type": "display_data"
    }
   ],
   "source": [
    "sns.countplot(x=\"eval_set\",data=orders)"
   ]
  },
  {
   "cell_type": "code",
   "execution_count": 18,
   "metadata": {},
   "outputs": [
    {
     "data": {
      "text/plain": [
       "<matplotlib.axes._subplots.AxesSubplot at 0x2448085c1d0>"
      ]
     },
     "execution_count": 18,
     "metadata": {},
     "output_type": "execute_result"
    },
    {
     "data": {
      "image/png": "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\n",
      "text/plain": [
       "<matplotlib.figure.Figure at 0x244810d7128>"
      ]
     },
     "metadata": {},
     "output_type": "display_data"
    }
   ],
   "source": [
    "sns.countplot(x=\"order_dow\",data=orders)"
   ]
  },
  {
   "cell_type": "markdown",
   "metadata": {},
   "source": [
    "Most of the orders take place on the early days of the week"
   ]
  },
  {
   "cell_type": "code",
   "execution_count": 20,
   "metadata": {},
   "outputs": [
    {
     "data": {
      "text/plain": [
       "<matplotlib.axes._subplots.AxesSubplot at 0x244810585c0>"
      ]
     },
     "execution_count": 20,
     "metadata": {},
     "output_type": "execute_result"
    },
    {
     "data": {
      "image/png": "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\n",
      "text/plain": [
       "<matplotlib.figure.Figure at 0x24480137208>"
      ]
     },
     "metadata": {},
     "output_type": "display_data"
    }
   ],
   "source": [
    "sns.countplot(x=\"order_hour_of_day\",data=orders)"
   ]
  },
  {
   "cell_type": "markdown",
   "metadata": {},
   "source": [
    "Majority of the orders take place between 9 and 17 hours during the day"
   ]
  },
  {
   "cell_type": "code",
   "execution_count": 5,
   "metadata": {},
   "outputs": [
    {
     "data": {
      "text/plain": [
       "Text(0,0.5,'count')"
      ]
     },
     "execution_count": 5,
     "metadata": {},
     "output_type": "execute_result"
    },
    {
     "data": {
      "image/png": "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\n",
      "text/plain": [
       "<matplotlib.figure.Figure at 0x1db80397f28>"
      ]
     },
     "metadata": {},
     "output_type": "display_data"
    }
   ],
   "source": [
    "orders['days_since_prior_order'].plot(kind='hist',bins=100)\n",
    "plt.xlabel('Days since last order')\n",
    "plt.ylabel('count')"
   ]
  },
  {
   "cell_type": "markdown",
   "metadata": {},
   "source": [
    "so for the majority of the customers, the number of days since the last order peaks at 30 and then the next highest is for 7. which means that majority of the customers order in a monthly and weekly basis."
   ]
  },
  {
   "cell_type": "code",
   "execution_count": 9,
   "metadata": {},
   "outputs": [
    {
     "data": {
      "text/plain": [
       "eval_set\n",
       "prior    3214874\n",
       "test       75000\n",
       "train     131209\n",
       "Name: user_id, dtype: int64"
      ]
     },
     "execution_count": 9,
     "metadata": {},
     "output_type": "execute_result"
    }
   ],
   "source": [
    "orders.groupby('eval_set')['user_id'].count()"
   ]
  },
  {
   "cell_type": "code",
   "execution_count": null,
   "metadata": {},
   "outputs": [],
   "source": [
    "hahksgkdgkdsgkjagdjasgdjad"
   ]
  },
  {
   "cell_type": "code",
   "execution_count": null,
   "metadata": {},
   "outputs": [],
   "source": []
  },
  {
   "cell_type": "code",
   "execution_count": null,
   "metadata": {
    "collapsed": true
   },
   "outputs": [],
   "source": []
  }
 ],
 "metadata": {
  "kernelspec": {
   "display_name": "Python 3",
   "language": "python",
   "name": "python3"
  },
  "language_info": {
   "codemirror_mode": {
    "name": "ipython",
    "version": 3
   },
   "file_extension": ".py",
   "mimetype": "text/x-python",
   "name": "python",
   "nbconvert_exporter": "python",
   "pygments_lexer": "ipython3",
   "version": "3.6.2"
  }
 },
 "nbformat": 4,
 "nbformat_minor": 2
}
